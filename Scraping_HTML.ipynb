{
  "nbformat": 4,
  "nbformat_minor": 0,
  "metadata": {
    "colab": {
      "name": "Scraping HTML.ipynb",
      "provenance": [],
      "collapsed_sections": [],
      "include_colab_link": true
    },
    "kernelspec": {
      "name": "python3",
      "display_name": "Python 3"
    }
  },
  "cells": [
    {
      "cell_type": "markdown",
      "metadata": {
        "id": "view-in-github",
        "colab_type": "text"
      },
      "source": [
        "<a href=\"https://colab.research.google.com/github/NatanaelEmilioC/evcomp/blob/master/Scraping_HTML.ipynb\" target=\"_parent\"><img src=\"https://colab.research.google.com/assets/colab-badge.svg\" alt=\"Open In Colab\"/></a>"
      ]
    },
    {
      "cell_type": "code",
      "metadata": {
        "id": "i3IeFV63ldYo",
        "colab_type": "code",
        "outputId": "6ad8ef1b-4fdc-4f4e-851a-bc8642f9d947",
        "colab": {
          "base_uri": "https://localhost:8080/",
          "height": 17
        }
      },
      "source": [
        "from IPython.core.display import display, HTML\n",
        "display(HTML(\"<style>.container { width:95% !important; }</style>\"))"
      ],
      "execution_count": 0,
      "outputs": [
        {
          "output_type": "display_data",
          "data": {
            "text/html": [
              "<style>.container { width:95% !important; }</style>"
            ],
            "text/plain": [
              "<IPython.core.display.HTML object>"
            ]
          },
          "metadata": {
            "tags": []
          }
        }
      ]
    },
    {
      "cell_type": "markdown",
      "metadata": {
        "id": "6mBkQGZ29fBu",
        "colab_type": "text"
      },
      "source": [
        "\n",
        "<center> <h1><b>Minicurso - Coleta de Dados na Web</b></h1></center>\n",
        "\n",
        "<h2><b>Web Scraping</b></h2>\n",
        "\n",
        "<h3>Bernardo Abreu - Vinícius Silva</h3>\n",
        "\n",
        "Este notebook possui o objetivo de introduzir a estrutura genérica e como funcionam páginas html, bem como a utilização das tags para extrair informações por meio de web scraping.\n",
        "\n",
        "Também mostraremos um técnica de análise simples aplicada sobre os dados coletados.\n",
        "\n",
        "## 1- Introdução básica ao HTML\n",
        "HTML (**H**yper**T**ext **M**arkup **L**anguage) é uma linguagem de marcação utilizada na construção de páginas Web. A linguagem é fortemente baseada no uso de <i>tags</i>, que são estruturas especiais que indicam ao browser, o que cada elemento da página significa e como ele deve ser renderizado.\n",
        "\n",
        "\n",
        "Estrutura Geral de uma tag HTML:\n",
        "\n",
        "```html\n",
        "<nome_da_tag atributo1=\"val_atributo_1\"  atributo2=\"val_atributo2\"> conteudo_da_tag </nome_da_tag>\n",
        "```\n",
        "<br/>\n",
        "\n",
        "### Exemplo:\n",
        "Criando um link para um site:\n",
        "\n",
        "```html\n",
        "<a href=\"http://www.bigdata.com.br\" target=\"_self\"><p>Clique aqui para visitar o site da Big Data</p></a>\n",
        "```\n",
        "<ul>\n",
        "<li>p = marcador que define um parágrafo.</li>\n",
        "<li>a = marcador que define uma hiperligação (link).</li>\n",
        "<li>href = atributo que define a url do link.</li>\n",
        "<li>target = atributo que define a forma como o link será aberto.</li>\n",
        "<li>_self = valor do atributo Target que define que o link será aberta na mesma guia.</li>\n",
        "<li>/ = define o fechamento do elemento</li>\n",
        "</ul>\n",
        "\n",
        "### Referência para consulta:\n",
        "Um site extremamente recomendado para quem quer aprender HTML (e desenvolvimento web, no geral) é o W3Schools (https://www.w3schools.com/). Lá você vai encontrar tutoriais interativos de como usar as tags, o que elas fazem, como integrar JavaScript, CSS, Ajax, e muito mais. Vale a pena conferir."
      ]
    },
    {
      "cell_type": "code",
      "metadata": {
        "id": "Wkv8qUFsrEcW",
        "colab_type": "code",
        "outputId": "e1633466-4042-4f90-99ee-03a8870b7f9e",
        "colab": {
          "base_uri": "https://localhost:8080/",
          "height": 46
        }
      },
      "source": [
        "from IPython.display import HTML\n",
        "\n",
        "first_html = \"\"\"\n",
        "  <a href=\"http://www.bigdata.com.br\" target=\"_self\">\n",
        "    <p>Clique aqui para visitar o site da Big Data</p>\n",
        "  </a>\n",
        "\"\"\"\n",
        "\n",
        "HTML(first_html)"
      ],
      "execution_count": 0,
      "outputs": [
        {
          "output_type": "execute_result",
          "data": {
            "text/html": [
              "\n",
              "  <a href=\"http://www.bigdata.com.br\" target=\"_self\">\n",
              "    <p>Clique aqui para visitar o site da Big Data</p>\n",
              "  </a>\n"
            ],
            "text/plain": [
              "<IPython.core.display.HTML object>"
            ]
          },
          "metadata": {
            "tags": []
          },
          "execution_count": 2
        }
      ]
    },
    {
      "cell_type": "markdown",
      "metadata": {
        "id": "Rm5EgVFdlKQ3",
        "colab_type": "text"
      },
      "source": [
        "## 2- Navegando na hierarquia\n",
        " ### Exemplo:\n",
        "\n",
        "Considere o documento HMTL mostrado abaixo:\n",
        "\n",
        "```html\n",
        "<!DOCTYPE html>\n",
        "<html>\n",
        "    <head>\n",
        "        <title>Título do Documento</title>\n",
        "    </head>\n",
        "    <body>\n",
        "      <!-- Aqui fica a página que será visível para todos, onde pode-se inserir\n",
        "      textos, imagens, links para outras páginas, etc, geralmente usa-se: -->\n",
        "\n",
        "      <div>Tag para criar-se uma caixa, um bloco, mais utilizada com \"Cascading Style Sheets\" (CSS) </div>\n",
        "\n",
        "      <span>Tag para modificação de uma parte do texto da página</span>\n",
        "\n",
        "      <img src=\"endereço_de_uma_imagem.jpg\" />\n",
        "\n",
        "      <a href=\"http://www.wikipedia.org\">Wikipedia, A Enciclopédia Livre</a>\n",
        "    </body>\n",
        "</html>\n",
        "```\n",
        "\n",
        "Neste exemplo, podemos ver um recurso extremamente útil na linguagem HTML, que é o aninhamento de tags. Perceba que a tag **title** está aninhada dentro da tag **head**, que por sua vez, está aninhada dentro da tag **html**. Dizemos que a tag **title** é filha (*child*) da tag **head** (dita tag pai ou *parent*), que por sua vez é filha da tag **html**. Ambas as tags **title** e **head** são ditas descendentes da tag **html**. Tags no mesmo nível de aninhamento, (como **div** e **span**, neste exemplo) são chamadas tags irmãs. Esse aninhamento cria uma espécie de hierarquia dentro de um documento HTML que nos será muito útil do ponto de vista do web scraping.\n",
        "\n",
        "O formato estruturado de um arquivo HTML nos permite utilizar ferramentas de querying no documento. Através dessas ferramentas, podemos fazer consultas ao documento e fazer perguntas como: Qual o conteúdo da tag span? Ou ainda, qual o valor do atributo src da tag image?\n",
        "\n",
        "<br/>\n",
        "\n",
        "### A Linguagem XPath:\n",
        "\n",
        "A tecnologia XPath (XML Path Language) é uma linguagem de consulta utilizada para selecionar nós de um documento XML. Além disso, também pode ser usada para computar valores (strings, números, booleanos, etc) do conteúdo de um documento XML.\n",
        "\n",
        "### Exemplo:\n",
        "\n",
        "Copie o código HTML mostrado acima e cole-o no campo XML Input do site https://www.freeformatter.com/xpath-tester.html\n",
        "\n",
        "No campo XPath expression, colocaremos as expressões XPath propriamente ditas para respondermos algumas perguntas de nosso interesse a respeito do documento\n",
        "\n",
        "1- Qual o conteúdo da tag span? <br/>\n",
        "R: //span/text()\n",
        "\n",
        "2- Qual o valor do atributo src da tag image? <br/>\n",
        "R: //img/@src\n",
        "\n",
        "<br/>\n",
        "\n",
        "### Referência para consulta:\n",
        "\n",
        "Um recurso bastante interessante para se ter em mãos ao fazer web scraping, é a cheat sheet do XPath, disponível aqui: https://devhints.io/xpath\n",
        "\n",
        "Com ela, podemos ter acesso fácil às principais funcionalidades da linguagem, sendo um meio rápido de resolver problemas básicos. Para problemas mais complexos e discussões de melhores práticas, é bom recorrer ao bom e velho StackOverflow.\n"
      ]
    },
    {
      "cell_type": "markdown",
      "metadata": {
        "id": "F-Y4Q0nnSYne",
        "colab_type": "text"
      },
      "source": [
        "## 3- Praticando\n",
        "\n",
        "Mesmo que o que mostramos até agora pareça bastante básico, vamos mostrar que já é o suficiente para crawlearmos um site simples.\n",
        "Um site básico que podemos utilizar é o quotes.toscrape.com, que foi criado justamente para ensinar novatos a coletar dados na web. Trata-se de uma página com relativamente poucos elementos e que não implementa mecanismos de bloqueio. É um bom lugar para começar.\n",
        "\n",
        "O site contém citações de autores renomados, tageadas e dispostas ao longo de 10 páginas. Nosso objetivo com esse tutorial é coletar todas as citações e seus respectivos autores e tags.\n",
        "Uma vez que tivermos os dados, criaremos uma wordcloud com as top 15 tags mais usadas."
      ]
    },
    {
      "cell_type": "markdown",
      "metadata": {
        "id": "mpiVYwmFXgce",
        "colab_type": "text"
      },
      "source": [
        "Vamos começar instalando algumas bibliotecas que nos auxiliarão a completar essa tarefa. \n",
        "\n",
        "A biblioteca scrapy é extremamente útil para a criação de crawlers. Ela fornece ferramentas para a paralelização de requests, uma plataforma para a execução de consultas XPath, meios para integração com proxies, etc. Para esse tutorial em específico, estamos interessados na sua capacidade de execução de queries XPath.\n",
        "\n",
        "Já a biblioteca wordcloud, como o próprio nome diz, é utilizada para fazer desenhos gráficos de uma wordcloud."
      ]
    },
    {
      "cell_type": "code",
      "metadata": {
        "id": "Kkm8SKKk9IJ4",
        "colab_type": "code",
        "outputId": "e5adb738-0fa0-45d2-88dd-26c58c1d52aa",
        "colab": {
          "base_uri": "https://localhost:8080/",
          "height": 504
        }
      },
      "source": [
        "# Instalando bibliotecas\n",
        "!pip install scrapy\n",
        "!pip install wordcloud"
      ],
      "execution_count": 0,
      "outputs": [
        {
          "output_type": "stream",
          "text": [
            "Requirement already satisfied: scrapy in /usr/local/lib/python3.6/dist-packages (1.8.0)\n",
            "Requirement already satisfied: Twisted>=17.9.0; python_version >= \"3.5\" in /usr/local/lib/python3.6/dist-packages (from scrapy) (19.10.0)\n",
            "Requirement already satisfied: protego>=0.1.15 in /usr/local/lib/python3.6/dist-packages (from scrapy) (0.1.16)\n",
            "Requirement already satisfied: lxml>=3.5.0 in /usr/local/lib/python3.6/dist-packages (from scrapy) (4.2.6)\n",
            "Requirement already satisfied: cssselect>=0.9.1 in /usr/local/lib/python3.6/dist-packages (from scrapy) (1.1.0)\n",
            "Requirement already satisfied: cryptography>=2.0 in /usr/local/lib/python3.6/dist-packages (from scrapy) (2.8)\n",
            "Requirement already satisfied: PyDispatcher>=2.0.5 in /usr/local/lib/python3.6/dist-packages (from scrapy) (2.0.5)\n",
            "Requirement already satisfied: queuelib>=1.4.2 in /usr/local/lib/python3.6/dist-packages (from scrapy) (1.5.0)\n",
            "Requirement already satisfied: service-identity>=16.0.0 in /usr/local/lib/python3.6/dist-packages (from scrapy) (18.1.0)\n",
            "Requirement already satisfied: six>=1.10.0 in /usr/local/lib/python3.6/dist-packages (from scrapy) (1.12.0)\n",
            "Requirement already satisfied: w3lib>=1.17.0 in /usr/local/lib/python3.6/dist-packages (from scrapy) (1.21.0)\n",
            "Requirement already satisfied: zope.interface>=4.1.3 in /usr/local/lib/python3.6/dist-packages (from scrapy) (4.7.1)\n",
            "Requirement already satisfied: parsel>=1.5.0 in /usr/local/lib/python3.6/dist-packages (from scrapy) (1.5.2)\n",
            "Requirement already satisfied: pyOpenSSL>=16.2.0 in /usr/local/lib/python3.6/dist-packages (from scrapy) (19.1.0)\n",
            "Requirement already satisfied: incremental>=16.10.1 in /usr/local/lib/python3.6/dist-packages (from Twisted>=17.9.0; python_version >= \"3.5\"->scrapy) (17.5.0)\n",
            "Requirement already satisfied: PyHamcrest>=1.9.0 in /usr/local/lib/python3.6/dist-packages (from Twisted>=17.9.0; python_version >= \"3.5\"->scrapy) (2.0.0)\n",
            "Requirement already satisfied: attrs>=17.4.0 in /usr/local/lib/python3.6/dist-packages (from Twisted>=17.9.0; python_version >= \"3.5\"->scrapy) (19.3.0)\n",
            "Requirement already satisfied: hyperlink>=17.1.1 in /usr/local/lib/python3.6/dist-packages (from Twisted>=17.9.0; python_version >= \"3.5\"->scrapy) (19.0.0)\n",
            "Requirement already satisfied: Automat>=0.3.0 in /usr/local/lib/python3.6/dist-packages (from Twisted>=17.9.0; python_version >= \"3.5\"->scrapy) (20.2.0)\n",
            "Requirement already satisfied: constantly>=15.1 in /usr/local/lib/python3.6/dist-packages (from Twisted>=17.9.0; python_version >= \"3.5\"->scrapy) (15.1.0)\n",
            "Requirement already satisfied: cffi!=1.11.3,>=1.8 in /usr/local/lib/python3.6/dist-packages (from cryptography>=2.0->scrapy) (1.14.0)\n",
            "Requirement already satisfied: pyasn1-modules in /usr/local/lib/python3.6/dist-packages (from service-identity>=16.0.0->scrapy) (0.2.8)\n",
            "Requirement already satisfied: pyasn1 in /usr/local/lib/python3.6/dist-packages (from service-identity>=16.0.0->scrapy) (0.4.8)\n",
            "Requirement already satisfied: setuptools in /usr/local/lib/python3.6/dist-packages (from zope.interface>=4.1.3->scrapy) (45.1.0)\n",
            "Requirement already satisfied: idna>=2.5 in /usr/local/lib/python3.6/dist-packages (from hyperlink>=17.1.1->Twisted>=17.9.0; python_version >= \"3.5\"->scrapy) (2.8)\n",
            "Requirement already satisfied: pycparser in /usr/local/lib/python3.6/dist-packages (from cffi!=1.11.3,>=1.8->cryptography>=2.0->scrapy) (2.19)\n",
            "Requirement already satisfied: wordcloud in /usr/local/lib/python3.6/dist-packages (1.5.0)\n",
            "Requirement already satisfied: numpy>=1.6.1 in /usr/local/lib/python3.6/dist-packages (from wordcloud) (1.17.5)\n",
            "Requirement already satisfied: pillow in /usr/local/lib/python3.6/dist-packages (from wordcloud) (6.2.2)\n"
          ],
          "name": "stdout"
        }
      ]
    },
    {
      "cell_type": "code",
      "metadata": {
        "id": "zhFJXY756TLC",
        "colab_type": "code",
        "colab": {}
      },
      "source": [
        "import requests\n",
        "from scrapy.http import TextResponse"
      ],
      "execution_count": 0,
      "outputs": []
    },
    {
      "cell_type": "code",
      "metadata": {
        "id": "2cWadvaDohPB",
        "colab_type": "code",
        "colab": {}
      },
      "source": [
        "def send_request_to_url(site_url):\n",
        "    # py_res --> Response nativa do Python\n",
        "    py_res = requests.get(site_url)\n",
        "    # print(py_res)\n",
        "\n",
        "    # scrapy_res --> Response própria para ser utilizada no scrapy\n",
        "    scrapy_res = TextResponse(py_res.url, body=py_res.text, encoding='utf-8')\n",
        "\n",
        "    return scrapy_res"
      ],
      "execution_count": 0,
      "outputs": []
    },
    {
      "cell_type": "code",
      "metadata": {
        "id": "OVKr-GeepfVe",
        "colab_type": "code",
        "colab": {}
      },
      "source": [
        "import time\n",
        "\n",
        "# Navega pelo website coletando as citações de cada autor\n",
        "\n",
        "\n",
        "def scrape_website():\n",
        "\n",
        "    page_str = ''\n",
        "    quotations = []\n",
        "\n",
        "    # iteramos sobre as paginas até que não exista mais o botao próximo\n",
        "    while(True):\n",
        "\n",
        "        # observacao: estamos fazendo requests em um loop. Adicionaremos um delay\n",
        "        scrapy_res = send_request_to_url(\n",
        "            'http://quotes.toscrape.com/' + page_str)\n",
        "        # Delay de 1s\n",
        "        time.sleep(1)\n",
        "\n",
        "        # Nosso primeiro uso de XPath: recebemos uma list de Selectors em que cada\n",
        "        # elemento \"aponta\" para um resultado da query.\n",
        "        # Cada resultado corresponde a uma tag div cuja \"classe\" é 'quote'\n",
        "        for sel in scrapy_res.xpath('//div[@class=\"quote\"]'):\n",
        "\n",
        "            # Dentro do loop, fazemos o parsing das tags filhas do div corrente\n",
        "            quotation_dict = {}\n",
        "\n",
        "            # Le a citação em si (Tag span, classe \"text\")\n",
        "            quotation_dict['quote'] = (sel\n",
        "                                       .xpath('.//span[@class=\"text\"]/text()')\n",
        "                                       .extract_first())\n",
        "            # Le o autor da citação\n",
        "            quotation_dict['author'] = (sel\n",
        "                                        .xpath('.//small[@class=\"author\"]/text()')\n",
        "                                        .extract_first())\n",
        "\n",
        "            # Le a lista de tags da citação\n",
        "            quotation_dict['tags'] = ('; '.join(sel\n",
        "                                                .xpath('.//a[@class=\"tag\"]/text()')\n",
        "                                                .extract()))\n",
        "\n",
        "            quotations.append(quotation_dict)\n",
        "\n",
        "            # Lê o link que está no botão 'Próximo'\n",
        "            page_str = scrapy_res.xpath(\n",
        "                '//li[@class=\"next\"]/a/@href').extract_first()\n",
        "\n",
        "        # Se o botao 'Próximo' não existir, significa que estamos na ultima página\n",
        "        # Nesse caso, não precisamos mais fazer requests. Interrompemos o loop\n",
        "        if not page_str:\n",
        "            return quotations"
      ],
      "execution_count": 0,
      "outputs": []
    },
    {
      "cell_type": "code",
      "metadata": {
        "id": "pOtFzkGvG0XF",
        "colab_type": "code",
        "colab": {}
      },
      "source": [
        "import pandas as pd\n",
        "\n",
        "# Salva as quotations em um arquivo csv atraves do pandas dataframe\n",
        "def save_quotations_to_csv(quotations):\n",
        "\n",
        "    quotations_df = pd.DataFrame(quotations)\n",
        "\n",
        "    # Exibimos o head do dataframe\n",
        "    display(quotations_df.head())\n",
        "\n",
        "    quotations_df.to_csv('quotations.csv', index=False)"
      ],
      "execution_count": 0,
      "outputs": []
    },
    {
      "cell_type": "code",
      "metadata": {
        "id": "9w8bu8kzG3QM",
        "colab_type": "code",
        "colab": {}
      },
      "source": [
        "# Recebe a lista de dicts e retorna uma lista contendo todas as tags\n",
        "def generate_tags_list(quotations):\n",
        "\n",
        "    # gera uma lista das tags\n",
        "    tags_list = []\n",
        "    for q in quotations:\n",
        "        q_tags = q['tags'].split(';')\n",
        "        q_tags = map(lambda x: x.strip(), q_tags)\n",
        "        tags_list.extend(q_tags)\n",
        "\n",
        "    # Remove ocorrencias de tags vazias\n",
        "    tags_list = filter(lambda x: x!='', tags_list)\n",
        "\n",
        "    return tags_list"
      ],
      "execution_count": 0,
      "outputs": []
    },
    {
      "cell_type": "code",
      "metadata": {
        "id": "SfV3v_uipnkx",
        "colab_type": "code",
        "colab": {}
      },
      "source": [
        "\"\"\"\n",
        "  Função que recebe a lista de dicts com as quotations e retorna um dict \n",
        "  contendo a contagem das ocorrencias das top n tags.\n",
        "\"\"\"\n",
        "def get_top_n_tags(tags_list, n):\n",
        "\n",
        "    # Gera um dicionario com as contagens das tags\n",
        "    occur_dict = dict((x,tags_list.count(x)) for x in set(tags_list))\n",
        "\n",
        "    # Filtra as top n tags mais usadas\n",
        "    occur_dict = {\n",
        "        k: v for k, v in sorted(\n",
        "            occur_dict.items(),\n",
        "            key=lambda item: item[1],\n",
        "            reverse=True\n",
        "        )[:n]\n",
        "    }\n",
        "\n",
        "    return occur_dict"
      ],
      "execution_count": 0,
      "outputs": []
    },
    {
      "cell_type": "code",
      "metadata": {
        "id": "8kWjdBaVG8f3",
        "colab_type": "code",
        "colab": {}
      },
      "source": [
        "# biblioteca usada para criar a wordcloud\n",
        "from wordcloud import WordCloud\n",
        "\n",
        "# biblioteca usada para exibir a wordcloud\n",
        "import matplotlib.pyplot as plt\n",
        "\n",
        "\n",
        "def generate_word_cloud(top_tags, tags_list):\n",
        "\n",
        "    # Filtra tags_list para que tenha somente as palavras presentes em occur_dict\n",
        "    text = ' '.join(list(filter(lambda x: x in top_tags, tags_list)))\n",
        "\n",
        "    # Gera e exibe a wordcloud propriamente dita\n",
        "    wordcloud = WordCloud(background_color=\"white\").generate(text)\n",
        "    plt.imshow(wordcloud, interpolation='bilinear')\n",
        "    plt.axis(\"off\")\n",
        "    plt.show()"
      ],
      "execution_count": 0,
      "outputs": []
    },
    {
      "cell_type": "code",
      "metadata": {
        "id": "Sw0MRrcWtUCz",
        "colab_type": "code",
        "colab": {}
      },
      "source": [
        "def run_script():\n",
        "\n",
        "    quotations = scrape_website()\n",
        "    save_quotations_to_csv(quotations)\n",
        "    tags_list = list(generate_tags_list(quotations))\n",
        "\n",
        "    top_15_tags = get_top_n_tags(tags_list, 15)\n",
        "\n",
        "    generate_word_cloud(top_15_tags, tags_list)\n"
      ],
      "execution_count": 0,
      "outputs": []
    },
    {
      "cell_type": "code",
      "metadata": {
        "id": "lHhl3_rk8Aot",
        "colab_type": "code",
        "outputId": "bc7bd9aa-ee36-4143-9ec0-8716e5a93042",
        "colab": {
          "base_uri": "https://localhost:8080/",
          "height": 377
        }
      },
      "source": [
        "run_script()"
      ],
      "execution_count": 0,
      "outputs": [
        {
          "output_type": "display_data",
          "data": {
            "text/html": [
              "<div>\n",
              "<style scoped>\n",
              "    .dataframe tbody tr th:only-of-type {\n",
              "        vertical-align: middle;\n",
              "    }\n",
              "\n",
              "    .dataframe tbody tr th {\n",
              "        vertical-align: top;\n",
              "    }\n",
              "\n",
              "    .dataframe thead th {\n",
              "        text-align: right;\n",
              "    }\n",
              "</style>\n",
              "<table border=\"1\" class=\"dataframe\">\n",
              "  <thead>\n",
              "    <tr style=\"text-align: right;\">\n",
              "      <th></th>\n",
              "      <th>quote</th>\n",
              "      <th>author</th>\n",
              "      <th>tags</th>\n",
              "    </tr>\n",
              "  </thead>\n",
              "  <tbody>\n",
              "    <tr>\n",
              "      <th>0</th>\n",
              "      <td>“The world as we have created it is a process ...</td>\n",
              "      <td>Albert Einstein</td>\n",
              "      <td>change; deep-thoughts; thinking; world</td>\n",
              "    </tr>\n",
              "    <tr>\n",
              "      <th>1</th>\n",
              "      <td>“It is our choices, Harry, that show what we t...</td>\n",
              "      <td>J.K. Rowling</td>\n",
              "      <td>abilities; choices</td>\n",
              "    </tr>\n",
              "    <tr>\n",
              "      <th>2</th>\n",
              "      <td>“There are only two ways to live your life. On...</td>\n",
              "      <td>Albert Einstein</td>\n",
              "      <td>inspirational; life; live; miracle; miracles</td>\n",
              "    </tr>\n",
              "    <tr>\n",
              "      <th>3</th>\n",
              "      <td>“The person, be it gentleman or lady, who has ...</td>\n",
              "      <td>Jane Austen</td>\n",
              "      <td>aliteracy; books; classic; humor</td>\n",
              "    </tr>\n",
              "    <tr>\n",
              "      <th>4</th>\n",
              "      <td>“Imperfection is beauty, madness is genius and...</td>\n",
              "      <td>Marilyn Monroe</td>\n",
              "      <td>be-yourself; inspirational</td>\n",
              "    </tr>\n",
              "  </tbody>\n",
              "</table>\n",
              "</div>"
            ],
            "text/plain": [
              "                                               quote  ...                                          tags\n",
              "0  “The world as we have created it is a process ...  ...        change; deep-thoughts; thinking; world\n",
              "1  “It is our choices, Harry, that show what we t...  ...                            abilities; choices\n",
              "2  “There are only two ways to live your life. On...  ...  inspirational; life; live; miracle; miracles\n",
              "3  “The person, be it gentleman or lady, who has ...  ...              aliteracy; books; classic; humor\n",
              "4  “Imperfection is beauty, madness is genius and...  ...                    be-yourself; inspirational\n",
              "\n",
              "[5 rows x 3 columns]"
            ]
          },
          "metadata": {
            "tags": []
          }
        },
        {
          "output_type": "display_data",
          "data": {
            "image/png": "[encoded data removed]",
            "text/plain": [
              "<Figure size 432x288 with 1 Axes>"
            ]
          },
          "metadata": {
            "tags": []
          }
        }
      ]
    },
    {
      "cell_type": "markdown",
      "metadata": {
        "id": "BqtIy3rbs-SP",
        "colab_type": "text"
      },
      "source": [
        "# Usando Scrapy\n",
        "\n",
        "Scrapy é uma ferramenta muito versátil para fazer crawlers, apresentando algumas vantagens em relação à pura utilização de requests.\n",
        "\n",
        "Apesar disso, a primeira vista pode parecer mais complicado criar um crawler utilizando scrapy quando não se tem experiência com o mesmo.\n",
        "\n",
        "Abaixo vamos mostrar um crawler feito com scrapy que realiza a mesma coleta feita acima com requests."
      ]
    },
    {
      "cell_type": "code",
      "metadata": {
        "id": "SxU0uJysw9GC",
        "colab_type": "code",
        "colab": {}
      },
      "source": [
        "import scrapy\n",
        "import logging\n",
        "from scrapy.crawler import CrawlerProcess"
      ],
      "execution_count": 0,
      "outputs": []
    },
    {
      "cell_type": "code",
      "metadata": {
        "id": "4QGMFsrSw7vQ",
        "colab_type": "code",
        "colab": {}
      },
      "source": [
        "import json\n",
        "\n",
        "class JsonWriterPipeline(object):\n",
        "\n",
        "    def open_spider(self, spider):\n",
        "        self.file = open('quoteresult.jl', 'w')\n",
        "\n",
        "    def close_spider(self, spider):\n",
        "        self.file.close()\n",
        "\n",
        "    def process_item(self, item, spider):\n",
        "        line = json.dumps(dict(item)) + \"\\n\"\n",
        "        self.file.write(line)\n",
        "        return item"
      ],
      "execution_count": 0,
      "outputs": []
    },
    {
      "cell_type": "code",
      "metadata": {
        "id": "fB9jntWrtvE5",
        "colab_type": "code",
        "colab": {}
      },
      "source": [
        "class QuotesSpider(scrapy.Spider):\n",
        "    name = \"quotes\"\n",
        "    start_urls = [\n",
        "        'http://quotes.toscrape.com',\n",
        "    ]\n",
        "    custom_settings = {\n",
        "        'LOG_LEVEL': logging.WARNING,\n",
        "        'ITEM_PIPELINES': {'__main__.JsonWriterPipeline': 1}, # Used for pipeline 1\n",
        "        'FEED_FORMAT':'json',                                 # Used for pipeline 2\n",
        "        'FEED_URI': 'quoteresult.json'                        # Used for pipeline 2\n",
        "    }\n",
        "\n",
        "    def parse(self, response):\n",
        "        print(response)\n",
        "        for sel in response.xpath('//div[@class=\"quote\"]'):      \n",
        "            # Dentro do loop, fazemos o parsing das tags filhas do div corrente\n",
        "            quotation_dict = {}\n",
        "\n",
        "            # Le a citação em si (Tag span, classe \"text\")\n",
        "            quotation_dict['quote'] = (sel\n",
        "                                    .xpath('.//span[@class=\"text\"]/text()')\n",
        "                                    .extract_first())\n",
        "            # Le o autor da citação\n",
        "            quotation_dict['author'] = (sel\n",
        "                                        .xpath('.//small[@class=\"author\"]/text()')\n",
        "                                        .extract_first())\n",
        "\n",
        "            # Le a lista de tags da citação\n",
        "            quotation_dict['tags'] = ('; '.join(sel\n",
        "                                                .xpath('.//a[@class=\"tag\"]/text()')\n",
        "                                                .extract()))\n",
        "            yield quotation_dict\n",
        "\n",
        "        # Lê o link que está no botão 'Próximo'\n",
        "        page_str = response.xpath('//li[@class=\"next\"]/a/@href').extract_first()\n",
        "\n",
        "        # Se o botao 'Próximo' não existir, significa que estamos na ultima página\n",
        "        # Nesse caso, não precisamos mais fazer requests. Interrompemos o loop\n",
        "        if page_str is not None:\n",
        "            next_page = response.urljoin(page_str)\n",
        "            yield scrapy.Request(next_page, callback=self.parse)"
      ],
      "execution_count": 0,
      "outputs": []
    },
    {
      "cell_type": "code",
      "metadata": {
        "id": "zyL6Y9jMwv4x",
        "colab_type": "code",
        "outputId": "c8dba7b2-685a-4e84-badb-d9dae2c5937a",
        "colab": {
          "base_uri": "https://localhost:8080/",
          "height": 255
        }
      },
      "source": [
        "process = CrawlerProcess({\n",
        "    'USER_AGENT': 'Mozilla/4.0 (compatible; MSIE 7.0; Windows NT 5.1)'\n",
        "})\n",
        "\n",
        "process.crawl(QuotesSpider)\n",
        "process.start()"
      ],
      "execution_count": 0,
      "outputs": [
        {
          "output_type": "stream",
          "text": [
            "2020-02-19 05:04:27 [scrapy.utils.log] INFO: Scrapy 1.8.0 started (bot: scrapybot)\n",
            "2020-02-19 05:04:27 [scrapy.utils.log] INFO: Versions: lxml 4.2.6.0, libxml2 2.9.8, cssselect 1.1.0, parsel 1.5.2, w3lib 1.21.0, Twisted 19.10.0, Python 3.6.9 (default, Nov  7 2019, 10:44:02) - [GCC 8.3.0], pyOpenSSL 19.1.0 (OpenSSL 1.1.1d  10 Sep 2019), cryptography 2.8, Platform Linux-4.14.137+-x86_64-with-Ubuntu-18.04-bionic\n",
            "2020-02-19 05:04:27 [scrapy.crawler] INFO: Overridden settings: {'FEED_FORMAT': 'json', 'FEED_URI': 'quoteresult.json', 'LOG_LEVEL': 30, 'USER_AGENT': 'Mozilla/4.0 (compatible; MSIE 7.0; Windows NT 5.1)'}\n"
          ],
          "name": "stderr"
        },
        {
          "output_type": "stream",
          "text": [
            "<200 http://quotes.toscrape.com>\n",
            "<200 http://quotes.toscrape.com/page/2/>\n",
            "<200 http://quotes.toscrape.com/page/3/>\n",
            "<200 http://quotes.toscrape.com/page/4/>\n",
            "<200 http://quotes.toscrape.com/page/5/>\n",
            "<200 http://quotes.toscrape.com/page/6/>\n",
            "<200 http://quotes.toscrape.com/page/7/>\n",
            "<200 http://quotes.toscrape.com/page/8/>\n",
            "<200 http://quotes.toscrape.com/page/9/>\n",
            "<200 http://quotes.toscrape.com/page/10/>\n"
          ],
          "name": "stdout"
        }
      ]
    },
    {
      "cell_type": "code",
      "metadata": {
        "id": "ROFMXB2Vy-yY",
        "colab_type": "code",
        "colab": {}
      },
      "source": [
        "quoteresult_scrapy = []\n",
        "with open('quoteresult.jl', 'r') as f:\n",
        "    for line in f:\n",
        "        quoteresult_scrapy.append(json.loads(line))"
      ],
      "execution_count": 0,
      "outputs": []
    },
    {
      "cell_type": "code",
      "metadata": {
        "id": "14iRYS07z6cT",
        "colab_type": "code",
        "outputId": "6dee4333-1ef9-40ac-dffb-c72fb088327a",
        "colab": {
          "base_uri": "https://localhost:8080/",
          "height": 34
        }
      },
      "source": [
        "len(quoteresult_scrapy)"
      ],
      "execution_count": 0,
      "outputs": [
        {
          "output_type": "execute_result",
          "data": {
            "text/plain": [
              "100"
            ]
          },
          "metadata": {
            "tags": []
          },
          "execution_count": 18
        }
      ]
    },
    {
      "cell_type": "code",
      "metadata": {
        "id": "asCPUl53z_C0",
        "colab_type": "code",
        "outputId": "f8ffb776-cec7-44a4-85f3-8c13314e71c0",
        "colab": {
          "base_uri": "https://localhost:8080/",
          "height": 521
        }
      },
      "source": [
        "quoteresult_scrapy[:10]"
      ],
      "execution_count": 0,
      "outputs": [
        {
          "output_type": "execute_result",
          "data": {
            "text/plain": [
              "[{'author': 'Albert Einstein',\n",
              "  'quote': '“The world as we have created it is a process of our thinking. It cannot be changed without changing our thinking.”',\n",
              "  'tags': 'change; deep-thoughts; thinking; world'},\n",
              " {'author': 'J.K. Rowling',\n",
              "  'quote': '“It is our choices, Harry, that show what we truly are, far more than our abilities.”',\n",
              "  'tags': 'abilities; choices'},\n",
              " {'author': 'Albert Einstein',\n",
              "  'quote': '“There are only two ways to live your life. One is as though nothing is a miracle. The other is as though everything is a miracle.”',\n",
              "  'tags': 'inspirational; life; live; miracle; miracles'},\n",
              " {'author': 'Jane Austen',\n",
              "  'quote': '“The person, be it gentleman or lady, who has not pleasure in a good novel, must be intolerably stupid.”',\n",
              "  'tags': 'aliteracy; books; classic; humor'},\n",
              " {'author': 'Marilyn Monroe',\n",
              "  'quote': \"“Imperfection is beauty, madness is genius and it's better to be absolutely ridiculous than absolutely boring.”\",\n",
              "  'tags': 'be-yourself; inspirational'},\n",
              " {'author': 'Albert Einstein',\n",
              "  'quote': '“Try not to become a man of success. Rather become a man of value.”',\n",
              "  'tags': 'adulthood; success; value'},\n",
              " {'author': 'André Gide',\n",
              "  'quote': '“It is better to be hated for what you are than to be loved for what you are not.”',\n",
              "  'tags': 'life; love'},\n",
              " {'author': 'Thomas A. Edison',\n",
              "  'quote': \"“I have not failed. I've just found 10,000 ways that won't work.”\",\n",
              "  'tags': 'edison; failure; inspirational; paraphrased'},\n",
              " {'author': 'Eleanor Roosevelt',\n",
              "  'quote': \"“A woman is like a tea bag; you never know how strong it is until it's in hot water.”\",\n",
              "  'tags': 'misattributed-eleanor-roosevelt'},\n",
              " {'author': 'Steve Martin',\n",
              "  'quote': '“A day without sunshine is like, you know, night.”',\n",
              "  'tags': 'humor; obvious; simile'}]"
            ]
          },
          "metadata": {
            "tags": []
          },
          "execution_count": 19
        }
      ]
    },
    {
      "cell_type": "markdown",
      "metadata": {
        "id": "j0VC_NnqlmL_",
        "colab_type": "text"
      },
      "source": [
        "## Crawleando sites mais complexos\n",
        "\n",
        "### Skyscanner\n",
        "\n",
        "O site www.skyscanner.com é uma excelente ferramenta para acompanhar informações de voos em tempo real. Esses dados podem ser bastante valiosos e não faltam razões para querer obtê-los. \n",
        "Neste exemplo, iremos mostrar uma técnica ligeiramente diferente de web scraping.\n",
        "\n",
        "Ao invés de fazermos consultas ao HTML da página usando XPath, vamos clonar as requests feitas pelo browser de forma a obter apenas aquilo que nos interessa."
      ]
    },
    {
      "cell_type": "code",
      "metadata": {
        "id": "KResXTr2vEIL",
        "colab_type": "code",
        "colab": {}
      },
      "source": [
        "import json\n",
        "import pandas as pd\n",
        "import seaborn as sns\n",
        "import matplotlib.pyplot as plt"
      ],
      "execution_count": 0,
      "outputs": []
    },
    {
      "cell_type": "markdown",
      "metadata": {
        "id": "Yt-bieyYdEe9",
        "colab_type": "text"
      },
      "source": [
        "Uma ferramenta muito útil para encontrar a request exata feita por um site para obter os dados a serem exibidos é o *browser console*.\n",
        "\n",
        "Por exemplo, suponham que queiramos obter os dados de chegada e partida de um certo aeroporto, como o aeroporto de Congonhas.\n",
        "\n",
        "Após pesquisar no site Skyscanner, ou mesmo fazendo uma busca na internet, chegamos à seguinte URL:"
      ]
    },
    {
      "cell_type": "code",
      "metadata": {
        "id": "vpY-WTKIee_O",
        "colab_type": "code",
        "colab": {}
      },
      "source": [
        "url = 'https://www.skyscanner.com.br/passagens-aereas/chegadas-partidas/cgh/sao-paulo---congonhas-chegadas-partidas'"
      ],
      "execution_count": 0,
      "outputs": []
    },
    {
      "cell_type": "markdown",
      "metadata": {
        "id": "x_pdFeFFeo_z",
        "colab_type": "text"
      },
      "source": [
        "Essa URL contém todas as chegadas e partidas do aeroporto de Congonhas no dia de hoje. Utilizando a técnica vista anteriormente, seria possível fazer o scraping dessa página para obter todas as informações dispostas através dos elementos dispostos na própria página.\n",
        "\n",
        "Mas será que existe um jeito melhor?\n",
        "\n",
        "Ao abrir o *browser console* e abrir a aba *network* é possível ver as requisições feitas pelo site. (Caso a página esteja em branco, basta recarregá-la para que as requisições sejam refeitas)\n",
        "\n",
        "É possível ainda filtrar essas requisições pelo filtro XHR, que, segundo a Wikipédia, é uma API na forma de um objeto, cujos métodos transferem dados entre um *browser* e um servidor.\n",
        "\n",
        "Dados são exatamente o nosso objetivo ao fazer scraping do site. Portanto podemos tentar verificar se alguns desses dados estão sendo requisitados diretamente nessa aba, de forma que a repetir a requisição e obter os dados sem precisar fazer o scraping.\n",
        "\n",
        "Como o número de requisições listadas é muito alta, uma boa dica é pesquisar algum elemento conhecido do dado que você está buscando na aba de pesquisa."
      ]
    },
    {
      "cell_type": "markdown",
      "metadata": {
        "id": "o9P9pVxChdzr",
        "colab_type": "text"
      },
      "source": [
        "Ao encontrar a requisição que pede um arquivo JSON com os dados desejados, podemos estrair a requisição em cURL e convertê-la para outra linguagem caso necessário.\n",
        "\n",
        "Um bom site para isso é o https://curl.trillworks.com/#python."
      ]
    },
    {
      "cell_type": "markdown",
      "metadata": {
        "id": "DGO4-qJ4iDJV",
        "colab_type": "text"
      },
      "source": [
        "A requisição obtida foi essa abaixo."
      ]
    },
    {
      "cell_type": "code",
      "metadata": {
        "id": "Jn4wsaMoh-pS",
        "colab_type": "code",
        "colab": {}
      },
      "source": [
        "import requests\n",
        "\n",
        "headers = {\n",
        "    'authority': 'gateway.skyscanner.net',\n",
        "    'user-agent': 'Mozilla/5.0 (Linux; Android 6.0; Nexus 5 Build/MRA58N) AppleWebKit/537.36 (KHTML, like Gecko) Chrome/79.0.3945.130 Mobile Safari/537.36',\n",
        "    'accept': '*/*',\n",
        "    'origin': 'https://www.skyscanner.com.br',\n",
        "    'sec-fetch-site': 'cross-site',\n",
        "    'sec-fetch-mode': 'cors',\n",
        "    'referer': 'https://www.skyscanner.com.br/passagens-aereas/chegadas-partidas/gru/internacional-de-sao-paulo-guarulhos-chegadas-partidas',\n",
        "    'accept-encoding': 'gzip, deflate, br',\n",
        "    'accept-language': 'en-US,en;q=0.9,pt-BR;q=0.8,pt;q=0.7,es-ES;q=0.6,es;q=0.5',\n",
        "}\n",
        "\n",
        "params = (\n",
        "    ('locale', 'pt-BR'),\n",
        ")\n",
        "\n",
        "response = requests.get('https://gateway.skyscanner.net/arrival-departure-svc/api/airports/GRU/statuses', headers=headers, params=params)"
      ],
      "execution_count": 0,
      "outputs": []
    },
    {
      "cell_type": "markdown",
      "metadata": {
        "id": "4QPDahXdiZnY",
        "colab_type": "text"
      },
      "source": [
        "Muitos dos elementos são geralmente desnecessários. Existem sites mais complicados que exigem que você guarde os cookies, user-agent, ou outra informação qualquer para acessá-los, mas esse náo é um deles. Portanto podemos simplificas a requisição."
      ]
    },
    {
      "cell_type": "code",
      "metadata": {
        "id": "COb5UQqbifRW",
        "colab_type": "code",
        "colab": {}
      },
      "source": [
        "response = requests.get('https://gateway.skyscanner.net/arrival-departure-svc/api/airports/GRU/statuses')"
      ],
      "execution_count": 0,
      "outputs": []
    },
    {
      "cell_type": "markdown",
      "metadata": {
        "id": "aM-GkAmQindU",
        "colab_type": "text"
      },
      "source": [
        "Foram obtidos os dados em estruturados em JSON, que elimina a maior parte do trabalho feito em scraping."
      ]
    },
    {
      "cell_type": "code",
      "metadata": {
        "id": "t9x4fwthijXj",
        "colab_type": "code",
        "outputId": "fab8698e-923f-4ccc-8bbf-cc418dbd688f",
        "colab": {
          "base_uri": "https://localhost:8080/",
          "height": 34
        }
      },
      "source": [
        "json.loads(response.text).keys()"
      ],
      "execution_count": 0,
      "outputs": [
        {
          "output_type": "execute_result",
          "data": {
            "text/plain": [
              "dict_keys(['airportInfo', 'arrivals', 'departures'])"
            ]
          },
          "metadata": {
            "tags": []
          },
          "execution_count": 24
        }
      ]
    },
    {
      "cell_type": "markdown",
      "metadata": {
        "id": "AlDTzz0Li5kY",
        "colab_type": "text"
      },
      "source": [
        "Agora suponha que você deseje obter esses mesmos dados, mas para todos os aeroportos do Brasil. Ao observar a URL da requisição, é possível notar que o código do aeroporto faz parte da mesma. Assim, é de se esperar que ao colocar diferentes códigos de aeroportos, obtenha-se as informações para os respectivos aeroportos."
      ]
    },
    {
      "cell_type": "code",
      "metadata": {
        "id": "jvhrBsCldCim",
        "colab_type": "code",
        "colab": {}
      },
      "source": [
        "url = 'https://gateway.skyscanner.net/arrival-departure-svc/api/airports/'"
      ],
      "execution_count": 0,
      "outputs": []
    },
    {
      "cell_type": "code",
      "metadata": {
        "id": "wri8nYf-CrdY",
        "colab_type": "code",
        "colab": {}
      },
      "source": [
        "# Aqui se encontra uma lista com todos os aeroportos do Brasil.\n",
        "# Fazer as requisições para todos eles pode demorar um bom tempo, caso não\n",
        "# deseje ficar esperando muito tempo, use a célula de baixo para pesquisar menos aeroportos.\n",
        "\n",
        "# airports = ['AJU', 'AQA', 'ARU', 'ATM', 'AUX', 'BAU', 'BEL', 'BPS', 'BRA',\n",
        "#             'BSB', 'BVB', 'BZC', 'CAF', 'CAW', 'CFB', 'CFO', 'CGB', 'CGH',\n",
        "#             'CGR', 'CIZ', 'CKS', 'CLV', 'CMG', 'CNF', 'CPV', 'CWB', 'CXJ',\n",
        "#             'CZS', 'DIQ', 'ERM', 'ERN', 'FEN', 'FLN', 'FOR', 'GEL', 'GIG',\n",
        "#             'GRU', 'GVR', 'GYN', 'IGU', 'IMP', 'IOS', 'IPN', 'ITB', 'IZA',\n",
        "#             'JDF', 'JDO', 'JJD', 'JJG', 'JOI', 'JPA', 'JTC', 'LBR', 'LDB',\n",
        "#             'MAB', 'MAO', 'MCP', 'MCZ', 'MEA', 'MGF', 'MII', 'MOC', 'NAT',\n",
        "#             'NVT', 'PET', 'PFB', 'PIN', 'PLU', 'PMW', 'PNZ', 'POA', 'PPB',\n",
        "#             'PVH', 'RAO', 'RBR', 'REC', 'RIA', 'RIG', 'ROO', 'SDU', 'SJK',\n",
        "#             'SJL', 'SJP', 'SLZ', 'SSA', 'STM', 'TFF', 'THE', 'TJL', 'TMT',\n",
        "#             'UDI', 'VAG', 'VCP', 'VDC', 'VIX', 'XAP']"
      ],
      "execution_count": 0,
      "outputs": []
    },
    {
      "cell_type": "code",
      "metadata": {
        "id": "44qS16mb8S6H",
        "colab_type": "code",
        "colab": {}
      },
      "source": [
        "# Um subconjunto dos aeroportos do Brasil.\n",
        "airports = ['AJU', 'AQA', 'ARU', 'ATM', 'AUX', 'BAU', 'BEL', 'BPS', 'BRA',\n",
        "           'BSB', 'BVB', 'BZC', 'CAF', 'CAW', 'CFB', 'CFO', 'CGB', 'CGH',\n",
        "           'CGR', 'CIZ', 'CKS', 'CLV', 'CMG', 'CNF', 'CPV', 'CWB', 'CXJ',\n",
        "           'CZS', 'DIQ', 'ERM', 'ERN', 'FEN', 'FLN', 'FOR', 'GEL', 'GIG',\n",
        "           'GRU', 'GVR', 'GYN', 'IGU', 'IMP', 'IOS', 'IPN', 'ITB', 'IZA']"
      ],
      "execution_count": 0,
      "outputs": []
    },
    {
      "cell_type": "markdown",
      "metadata": {
        "id": "8kEK4FgaBQjo",
        "colab_type": "text"
      },
      "source": [
        "Abaixo nós fazemos uma requisição para cada aeroporto e guardamos todas as informações em uma lista."
      ]
    },
    {
      "cell_type": "code",
      "metadata": {
        "id": "UkNcYANvEgZS",
        "colab_type": "code",
        "colab": {}
      },
      "source": [
        "all_airports = []\n",
        "for airport in airports:\n",
        "    response = requests.get(f'{url}{airport}/statuses')\n",
        "    airport_data = json.loads(response.text)\n",
        "    all_airports.append(airport_data)"
      ],
      "execution_count": 0,
      "outputs": []
    },
    {
      "cell_type": "markdown",
      "metadata": {
        "id": "Xbkdkbe0j2Jl",
        "colab_type": "text"
      },
      "source": [
        "Também é possível que você queira guardar os dados exatamente como eles vieram, sem fazer nenhum processamento a mais."
      ]
    },
    {
      "cell_type": "code",
      "metadata": {
        "id": "NIvVjgKrK7e1",
        "colab_type": "code",
        "colab": {}
      },
      "source": [
        "with open('airport_data.json', 'w') as f:\n",
        "    json.dump(all_airports, f)"
      ],
      "execution_count": 0,
      "outputs": []
    },
    {
      "cell_type": "code",
      "metadata": {
        "id": "X36Hx2OiMKmX",
        "colab_type": "code",
        "colab": {}
      },
      "source": [
        "with open('airport_data.json', 'r') as f:\n",
        "    all_airports = json.load(f)"
      ],
      "execution_count": 0,
      "outputs": []
    },
    {
      "cell_type": "code",
      "metadata": {
        "id": "cyzM-tAA-Fpl",
        "colab_type": "code",
        "colab": {}
      },
      "source": [
        "def format_airport_data(airport_data):\n",
        "    airport_info = {}\n",
        "\n",
        "    airport_info['airport_id'] = airport_data['airportInfo']['iataCode']\n",
        "    airport_info['name'] = airport_data['airportInfo']['name']\n",
        "    airlines = set()\n",
        "    for arrival in airport_data['arrivals']:\n",
        "        airlines.add(arrival['airlineId'])\n",
        "\n",
        "    for departure in airport_data['departures']:\n",
        "        airlines.add(departure['airlineId'])\n",
        "    airport_info['num_of_airlines'] = len(airlines)\n",
        "    airport_info['airlines'] = list(airlines)\n",
        "\n",
        "    airport_info['num_of_arrivals'] = len(airport_data['arrivals'])\n",
        "    airport_info['num_of_departures'] = len(airport_data['departures'])\n",
        "    return airport_info"
      ],
      "execution_count": 0,
      "outputs": []
    },
    {
      "cell_type": "code",
      "metadata": {
        "id": "wETutqb69PAl",
        "colab_type": "code",
        "colab": {}
      },
      "source": [
        "all_airports_info = []\n",
        "for airport in all_airports:\n",
        "    all_airports_info.append(format_airport_data(airport))"
      ],
      "execution_count": 0,
      "outputs": []
    },
    {
      "cell_type": "code",
      "metadata": {
        "id": "KSrTRA0FBJFb",
        "colab_type": "code",
        "colab": {}
      },
      "source": [
        "df_airports = pd.DataFrame(all_airports_info)"
      ],
      "execution_count": 0,
      "outputs": []
    },
    {
      "cell_type": "code",
      "metadata": {
        "id": "eyneEEezBj8t",
        "colab_type": "code",
        "outputId": "616afd9e-2526-4114-8d09-4afff98ff241",
        "colab": {
          "base_uri": "https://localhost:8080/",
          "height": 195
        }
      },
      "source": [
        "df_airports.head()"
      ],
      "execution_count": 0,
      "outputs": [
        {
          "output_type": "execute_result",
          "data": {
            "text/html": [
              "<div>\n",
              "<style scoped>\n",
              "    .dataframe tbody tr th:only-of-type {\n",
              "        vertical-align: middle;\n",
              "    }\n",
              "\n",
              "    .dataframe tbody tr th {\n",
              "        vertical-align: top;\n",
              "    }\n",
              "\n",
              "    .dataframe thead th {\n",
              "        text-align: right;\n",
              "    }\n",
              "</style>\n",
              "<table border=\"1\" class=\"dataframe\">\n",
              "  <thead>\n",
              "    <tr style=\"text-align: right;\">\n",
              "      <th></th>\n",
              "      <th>airport_id</th>\n",
              "      <th>name</th>\n",
              "      <th>num_of_airlines</th>\n",
              "      <th>airlines</th>\n",
              "      <th>num_of_arrivals</th>\n",
              "      <th>num_of_departures</th>\n",
              "    </tr>\n",
              "  </thead>\n",
              "  <tbody>\n",
              "    <tr>\n",
              "      <th>0</th>\n",
              "      <td>AJU</td>\n",
              "      <td>Aracaju</td>\n",
              "      <td>3</td>\n",
              "      <td>[AD, G3, LA]</td>\n",
              "      <td>15</td>\n",
              "      <td>13</td>\n",
              "    </tr>\n",
              "    <tr>\n",
              "      <th>1</th>\n",
              "      <td>AQA</td>\n",
              "      <td>Araraquara</td>\n",
              "      <td>1</td>\n",
              "      <td>[AD]</td>\n",
              "      <td>1</td>\n",
              "      <td>1</td>\n",
              "    </tr>\n",
              "    <tr>\n",
              "      <th>2</th>\n",
              "      <td>ARU</td>\n",
              "      <td>Aracatuba</td>\n",
              "      <td>3</td>\n",
              "      <td>[AD, 84, G3]</td>\n",
              "      <td>5</td>\n",
              "      <td>5</td>\n",
              "    </tr>\n",
              "    <tr>\n",
              "      <th>3</th>\n",
              "      <td>ATM</td>\n",
              "      <td>Altamira</td>\n",
              "      <td>2</td>\n",
              "      <td>[AD, JR]</td>\n",
              "      <td>3</td>\n",
              "      <td>3</td>\n",
              "    </tr>\n",
              "    <tr>\n",
              "      <th>4</th>\n",
              "      <td>AUX</td>\n",
              "      <td>Araguaina</td>\n",
              "      <td>1</td>\n",
              "      <td>[84]</td>\n",
              "      <td>1</td>\n",
              "      <td>1</td>\n",
              "    </tr>\n",
              "  </tbody>\n",
              "</table>\n",
              "</div>"
            ],
            "text/plain": [
              "  airport_id        name  ...  num_of_arrivals num_of_departures\n",
              "0        AJU     Aracaju  ...               15                13\n",
              "1        AQA  Araraquara  ...                1                 1\n",
              "2        ARU   Aracatuba  ...                5                 5\n",
              "3        ATM    Altamira  ...                3                 3\n",
              "4        AUX   Araguaina  ...                1                 1\n",
              "\n",
              "[5 rows x 6 columns]"
            ]
          },
          "metadata": {
            "tags": []
          },
          "execution_count": 34
        }
      ]
    },
    {
      "cell_type": "code",
      "metadata": {
        "id": "S-dvcCpxBRfP",
        "colab_type": "code",
        "outputId": "61edfcb3-b0d0-453d-8831-2d2104d50e6e",
        "colab": {
          "base_uri": "https://localhost:8080/",
          "height": 404
        }
      },
      "source": [
        "plt.figure(figsize=(10, 6))\n",
        "sns.distplot(df_airports['num_of_arrivals'], kde=False, hist_kws={'edgecolor':'black'})\n",
        "\n",
        "plt.title('How many daily arrivals are there in an airport?')\n",
        "plt.ylabel('# of airports')\n",
        "plt.xlabel('# of arrivals')\n",
        "plt.grid(True)\n",
        "plt.show()"
      ],
      "execution_count": 0,
      "outputs": [
        {
          "output_type": "display_data",
          "data": {
            "image/png": "[encoded data removed]",
            "text/plain": [
              "<Figure size 720x432 with 1 Axes>"
            ]
          },
          "metadata": {
            "tags": []
          }
        }
      ]
    },
    {
      "cell_type": "code",
      "metadata": {
        "id": "43Hl6OlNCFAp",
        "colab_type": "code",
        "outputId": "0ac6a328-fd85-4c53-b504-c51c24ae2ee8",
        "colab": {
          "base_uri": "https://localhost:8080/",
          "height": 343
        }
      },
      "source": [
        "df_airports.sort_values(by='num_of_arrivals', ascending=False).head(10)"
      ],
      "execution_count": 0,
      "outputs": [
        {
          "output_type": "execute_result",
          "data": {
            "text/html": [
              "<div>\n",
              "<style scoped>\n",
              "    .dataframe tbody tr th:only-of-type {\n",
              "        vertical-align: middle;\n",
              "    }\n",
              "\n",
              "    .dataframe tbody tr th {\n",
              "        vertical-align: top;\n",
              "    }\n",
              "\n",
              "    .dataframe thead th {\n",
              "        text-align: right;\n",
              "    }\n",
              "</style>\n",
              "<table border=\"1\" class=\"dataframe\">\n",
              "  <thead>\n",
              "    <tr style=\"text-align: right;\">\n",
              "      <th></th>\n",
              "      <th>airport_id</th>\n",
              "      <th>name</th>\n",
              "      <th>num_of_airlines</th>\n",
              "      <th>airlines</th>\n",
              "      <th>num_of_arrivals</th>\n",
              "      <th>num_of_departures</th>\n",
              "    </tr>\n",
              "  </thead>\n",
              "  <tbody>\n",
              "    <tr>\n",
              "      <th>36</th>\n",
              "      <td>GRU</td>\n",
              "      <td>Sao Paulo Guarulhos</td>\n",
              "      <td>31</td>\n",
              "      <td>[H2, ~F, G3, IB, TP, AT, AA, KL, EK, ET, AM, L...</td>\n",
              "      <td>408</td>\n",
              "      <td>404</td>\n",
              "    </tr>\n",
              "    <tr>\n",
              "      <th>17</th>\n",
              "      <td>CGH</td>\n",
              "      <td>Sao Paulo Congonhas</td>\n",
              "      <td>4</td>\n",
              "      <td>[AD, 84, G3, LA]</td>\n",
              "      <td>268</td>\n",
              "      <td>270</td>\n",
              "    </tr>\n",
              "    <tr>\n",
              "      <th>9</th>\n",
              "      <td>BSB</td>\n",
              "      <td>Brasilia</td>\n",
              "      <td>8</td>\n",
              "      <td>[, TP, AA, AD, 84, G3, LA, CM]</td>\n",
              "      <td>193</td>\n",
              "      <td>186</td>\n",
              "    </tr>\n",
              "    <tr>\n",
              "      <th>23</th>\n",
              "      <td>CNF</td>\n",
              "      <td>Belo Horizonte Tancredo Neves Int'l.</td>\n",
              "      <td>6</td>\n",
              "      <td>[, TP, AD, G3, LA, CM]</td>\n",
              "      <td>145</td>\n",
              "      <td>143</td>\n",
              "    </tr>\n",
              "    <tr>\n",
              "      <th>35</th>\n",
              "      <td>GIG</td>\n",
              "      <td>Rio De Janeiro Internacional</td>\n",
              "      <td>24</td>\n",
              "      <td>[, H2, ~F, 77, G3, IB, TP, AA, KL, EK, LA, UA,...</td>\n",
              "      <td>133</td>\n",
              "      <td>132</td>\n",
              "    </tr>\n",
              "    <tr>\n",
              "      <th>25</th>\n",
              "      <td>CWB</td>\n",
              "      <td>Curitiba</td>\n",
              "      <td>5</td>\n",
              "      <td>[AD, CV, G3, LA, AR]</td>\n",
              "      <td>93</td>\n",
              "      <td>93</td>\n",
              "    </tr>\n",
              "    <tr>\n",
              "      <th>33</th>\n",
              "      <td>FOR</td>\n",
              "      <td>Fortaleza</td>\n",
              "      <td>6</td>\n",
              "      <td>[TP, AF, AD, 84, G3, LA]</td>\n",
              "      <td>76</td>\n",
              "      <td>66</td>\n",
              "    </tr>\n",
              "    <tr>\n",
              "      <th>32</th>\n",
              "      <td>FLN</td>\n",
              "      <td>Florianopolis</td>\n",
              "      <td>5</td>\n",
              "      <td>[H2, AD, G3, LA, AR]</td>\n",
              "      <td>48</td>\n",
              "      <td>47</td>\n",
              "    </tr>\n",
              "    <tr>\n",
              "      <th>6</th>\n",
              "      <td>BEL</td>\n",
              "      <td>Belem</td>\n",
              "      <td>5</td>\n",
              "      <td>[AD, G3, LA, UA, JR]</td>\n",
              "      <td>43</td>\n",
              "      <td>41</td>\n",
              "    </tr>\n",
              "    <tr>\n",
              "      <th>16</th>\n",
              "      <td>CGB</td>\n",
              "      <td>Cuiaba</td>\n",
              "      <td>4</td>\n",
              "      <td>[, AD, G3, LA]</td>\n",
              "      <td>42</td>\n",
              "      <td>41</td>\n",
              "    </tr>\n",
              "  </tbody>\n",
              "</table>\n",
              "</div>"
            ],
            "text/plain": [
              "   airport_id  ... num_of_departures\n",
              "36        GRU  ...               404\n",
              "17        CGH  ...               270\n",
              "9         BSB  ...               186\n",
              "23        CNF  ...               143\n",
              "35        GIG  ...               132\n",
              "25        CWB  ...                93\n",
              "33        FOR  ...                66\n",
              "32        FLN  ...                47\n",
              "6         BEL  ...                41\n",
              "16        CGB  ...                41\n",
              "\n",
              "[10 rows x 6 columns]"
            ]
          },
          "metadata": {
            "tags": []
          },
          "execution_count": 36
        }
      ]
    },
    {
      "cell_type": "code",
      "metadata": {
        "id": "Y2Ny92g0HXXl",
        "colab_type": "code",
        "colab": {}
      },
      "source": [
        "def format_flight(airport):\n",
        "    all_formatted_data = []\n",
        "    for data in airport:\n",
        "        formatted_data = {}\n",
        "        formatted_data['airlineId'] = data['airlineId']\n",
        "        formatted_data['airlineName'] = data['airlineName']\n",
        "        formatted_data['flightNumber'] = data['flightNumber']\n",
        "        formatted_data['arrivalAirportCode'] = data['arrivalAirportCode']\n",
        "        formatted_data['departureAirportCode'] = data['departureAirportCode']\n",
        "\n",
        "        formatted_data['localisedScheduledDepartureTime'] = data['localisedScheduledDepartureTime']\n",
        "        formatted_data['localisedScheduledArrivalTime'] = data['localisedScheduledArrivalTime']\n",
        "\n",
        "        formatted_data['localisedEstimatedDepartureTime'] = data['localisedEstimatedDepartureTime']\n",
        "        formatted_data['localisedEstimatedArrivalTime'] = data['localisedEstimatedArrivalTime']\n",
        "\n",
        "        all_formatted_data.append(formatted_data)\n",
        "    return all_formatted_data"
      ],
      "execution_count": 0,
      "outputs": []
    },
    {
      "cell_type": "code",
      "metadata": {
        "id": "fQ7Adw3LlZqF",
        "colab_type": "code",
        "colab": {}
      },
      "source": [
        "arrival_data = []\n",
        "\n",
        "for airport in all_airports:\n",
        "    arrival_data.extend(format_flight(airport['arrivals']))"
      ],
      "execution_count": 0,
      "outputs": []
    },
    {
      "cell_type": "code",
      "metadata": {
        "id": "5pVmM56ZvS6O",
        "colab_type": "code",
        "colab": {}
      },
      "source": [
        "df_arrival_data = pd.DataFrame(arrival_data)"
      ],
      "execution_count": 0,
      "outputs": []
    },
    {
      "cell_type": "code",
      "metadata": {
        "id": "4jYLZf82GmBH",
        "colab_type": "code",
        "colab": {}
      },
      "source": [
        "df_arrival_data[['localisedScheduledDepartureTime', 'localisedScheduledArrivalTime', 'localisedEstimatedDepartureTime', 'localisedEstimatedArrivalTime']] = df_arrival_data[['localisedScheduledDepartureTime', 'localisedScheduledArrivalTime', 'localisedEstimatedDepartureTime', 'localisedEstimatedArrivalTime']].apply(pd.to_datetime)"
      ],
      "execution_count": 0,
      "outputs": []
    },
    {
      "cell_type": "code",
      "metadata": {
        "id": "E_9U1z0LG8dW",
        "colab_type": "code",
        "outputId": "617651b7-1ea5-40ca-84f7-bab4fa80e145",
        "colab": {
          "base_uri": "https://localhost:8080/",
          "height": 522
        }
      },
      "source": [
        "df_arrival_data"
      ],
      "execution_count": 0,
      "outputs": [
        {
          "output_type": "execute_result",
          "data": {
            "text/html": [
              "<div>\n",
              "<style scoped>\n",
              "    .dataframe tbody tr th:only-of-type {\n",
              "        vertical-align: middle;\n",
              "    }\n",
              "\n",
              "    .dataframe tbody tr th {\n",
              "        vertical-align: top;\n",
              "    }\n",
              "\n",
              "    .dataframe thead th {\n",
              "        text-align: right;\n",
              "    }\n",
              "</style>\n",
              "<table border=\"1\" class=\"dataframe\">\n",
              "  <thead>\n",
              "    <tr style=\"text-align: right;\">\n",
              "      <th></th>\n",
              "      <th>airlineId</th>\n",
              "      <th>airlineName</th>\n",
              "      <th>flightNumber</th>\n",
              "      <th>arrivalAirportCode</th>\n",
              "      <th>departureAirportCode</th>\n",
              "      <th>localisedScheduledDepartureTime</th>\n",
              "      <th>localisedScheduledArrivalTime</th>\n",
              "      <th>localisedEstimatedDepartureTime</th>\n",
              "      <th>localisedEstimatedArrivalTime</th>\n",
              "    </tr>\n",
              "  </thead>\n",
              "  <tbody>\n",
              "    <tr>\n",
              "      <th>0</th>\n",
              "      <td>G3</td>\n",
              "      <td>GOL Linhas Aéreas</td>\n",
              "      <td>G31504</td>\n",
              "      <td>AJU</td>\n",
              "      <td>GRU</td>\n",
              "      <td>2020-02-18 21:50:00</td>\n",
              "      <td>2020-02-19 00:30:00</td>\n",
              "      <td>2020-02-18 22:52:00</td>\n",
              "      <td>2020-02-19 01:22:00</td>\n",
              "    </tr>\n",
              "    <tr>\n",
              "      <th>1</th>\n",
              "      <td>AD</td>\n",
              "      <td>Azul Airlines</td>\n",
              "      <td>AD2484</td>\n",
              "      <td>AJU</td>\n",
              "      <td>SSA</td>\n",
              "      <td>2020-02-19 00:55:00</td>\n",
              "      <td>2020-02-19 01:45:00</td>\n",
              "      <td>2020-02-19 00:52:00</td>\n",
              "      <td>2020-02-19 01:35:00</td>\n",
              "    </tr>\n",
              "    <tr>\n",
              "      <th>2</th>\n",
              "      <td>LA</td>\n",
              "      <td>LATAM Airlines</td>\n",
              "      <td>LA3398</td>\n",
              "      <td>AJU</td>\n",
              "      <td>GRU</td>\n",
              "      <td>2020-02-18 23:45:00</td>\n",
              "      <td>2020-02-19 02:30:00</td>\n",
              "      <td>2020-02-18 23:44:00</td>\n",
              "      <td>2020-02-19 02:29:00</td>\n",
              "    </tr>\n",
              "    <tr>\n",
              "      <th>3</th>\n",
              "      <td>AD</td>\n",
              "      <td>Azul Airlines</td>\n",
              "      <td>AD2713</td>\n",
              "      <td>AJU</td>\n",
              "      <td>REC</td>\n",
              "      <td>2020-02-19 09:10:00</td>\n",
              "      <td>2020-02-19 10:35:00</td>\n",
              "      <td>2020-02-19 09:10:00</td>\n",
              "      <td>2020-02-19 10:35:00</td>\n",
              "    </tr>\n",
              "    <tr>\n",
              "      <th>4</th>\n",
              "      <td>G3</td>\n",
              "      <td>GOL Linhas Aéreas</td>\n",
              "      <td>G32012</td>\n",
              "      <td>AJU</td>\n",
              "      <td>GIG</td>\n",
              "      <td>2020-02-19 08:30:00</td>\n",
              "      <td>2020-02-19 10:50:00</td>\n",
              "      <td>2020-02-19 08:30:00</td>\n",
              "      <td>2020-02-19 10:50:00</td>\n",
              "    </tr>\n",
              "    <tr>\n",
              "      <th>...</th>\n",
              "      <td>...</td>\n",
              "      <td>...</td>\n",
              "      <td>...</td>\n",
              "      <td>...</td>\n",
              "      <td>...</td>\n",
              "      <td>...</td>\n",
              "      <td>...</td>\n",
              "      <td>...</td>\n",
              "      <td>...</td>\n",
              "    </tr>\n",
              "    <tr>\n",
              "      <th>1624</th>\n",
              "      <td>JR</td>\n",
              "      <td>MAP Linhas Aéreas</td>\n",
              "      <td>7M5912</td>\n",
              "      <td>ITB</td>\n",
              "      <td>PIN</td>\n",
              "      <td>2020-02-19 08:30:00</td>\n",
              "      <td>2020-02-19 10:00:00</td>\n",
              "      <td>NaT</td>\n",
              "      <td>NaT</td>\n",
              "    </tr>\n",
              "    <tr>\n",
              "      <th>1625</th>\n",
              "      <td>JR</td>\n",
              "      <td>MAP Linhas Aéreas</td>\n",
              "      <td>7M5913</td>\n",
              "      <td>ITB</td>\n",
              "      <td>ATM</td>\n",
              "      <td>2020-02-19 16:15:00</td>\n",
              "      <td>2020-02-19 17:20:00</td>\n",
              "      <td>2020-02-19 15:15:00</td>\n",
              "      <td>NaT</td>\n",
              "    </tr>\n",
              "    <tr>\n",
              "      <th>1626</th>\n",
              "      <td>AD</td>\n",
              "      <td>Azul Airlines</td>\n",
              "      <td>AD4352</td>\n",
              "      <td>IZA</td>\n",
              "      <td>VCP</td>\n",
              "      <td>2020-02-19 08:30:00</td>\n",
              "      <td>2020-02-19 10:05:00</td>\n",
              "      <td>NaT</td>\n",
              "      <td>NaT</td>\n",
              "    </tr>\n",
              "    <tr>\n",
              "      <th>1627</th>\n",
              "      <td>G3</td>\n",
              "      <td>GOL Linhas Aéreas</td>\n",
              "      <td>G31352</td>\n",
              "      <td>IZA</td>\n",
              "      <td>CGH</td>\n",
              "      <td>2020-02-19 11:35:00</td>\n",
              "      <td>2020-02-19 12:45:00</td>\n",
              "      <td>2020-02-19 11:35:00</td>\n",
              "      <td>2020-02-19 12:45:00</td>\n",
              "    </tr>\n",
              "    <tr>\n",
              "      <th>1628</th>\n",
              "      <td>AD</td>\n",
              "      <td>Azul Airlines</td>\n",
              "      <td>AD4332</td>\n",
              "      <td>IZA</td>\n",
              "      <td>VCP</td>\n",
              "      <td>2020-02-19 18:15:00</td>\n",
              "      <td>2020-02-19 19:50:00</td>\n",
              "      <td>NaT</td>\n",
              "      <td>NaT</td>\n",
              "    </tr>\n",
              "  </tbody>\n",
              "</table>\n",
              "<p>1629 rows × 9 columns</p>\n",
              "</div>"
            ],
            "text/plain": [
              "     airlineId  ... localisedEstimatedArrivalTime\n",
              "0           G3  ...           2020-02-19 01:22:00\n",
              "1           AD  ...           2020-02-19 01:35:00\n",
              "2           LA  ...           2020-02-19 02:29:00\n",
              "3           AD  ...           2020-02-19 10:35:00\n",
              "4           G3  ...           2020-02-19 10:50:00\n",
              "...        ...  ...                           ...\n",
              "1624        JR  ...                           NaT\n",
              "1625        JR  ...                           NaT\n",
              "1626        AD  ...                           NaT\n",
              "1627        G3  ...           2020-02-19 12:45:00\n",
              "1628        AD  ...                           NaT\n",
              "\n",
              "[1629 rows x 9 columns]"
            ]
          },
          "metadata": {
            "tags": []
          },
          "execution_count": 41
        }
      ]
    },
    {
      "cell_type": "code",
      "metadata": {
        "id": "kCEcAfrMJ4BY",
        "colab_type": "code",
        "colab": {}
      },
      "source": [
        "df_arrival_data['departure_delay'] = (df_arrival_data['localisedEstimatedDepartureTime'] - df_arrival_data['localisedScheduledDepartureTime']).apply(lambda x: pd.Timedelta(x).total_seconds() / 60)\n",
        "df_arrival_data['arrival_delay'] = (df_arrival_data['localisedEstimatedArrivalTime'] - df_arrival_data['localisedScheduledArrivalTime']).apply(lambda x: pd.Timedelta(x).total_seconds() / 60)"
      ],
      "execution_count": 0,
      "outputs": []
    },
    {
      "cell_type": "code",
      "metadata": {
        "id": "glMrpRwPngNT",
        "colab_type": "code",
        "outputId": "9167c296-4a35-4252-b334-72317e1b0068",
        "colab": {
          "base_uri": "https://localhost:8080/",
          "height": 404
        }
      },
      "source": [
        "plt.figure(figsize=(10, 6))\n",
        "ax = sns.distplot(df_arrival_data['departure_delay'].dropna(), kde=False, hist_kws={'edgecolor':'black'})\n",
        "\n",
        "plt.title('Delay of departures among all airports')\n",
        "plt.xlabel('# of flights')\n",
        "plt.xlabel('Departure delay (min)')\n",
        "plt.grid(True)\n",
        "plt.show()"
      ],
      "execution_count": 0,
      "outputs": [
        {
          "output_type": "display_data",
          "data": {
            "image/png": "[encoded data removed]",
            "text/plain": [
              "<Figure size 720x432 with 1 Axes>"
            ]
          },
          "metadata": {
            "tags": []
          }
        }
      ]
    },
    {
      "cell_type": "code",
      "metadata": {
        "id": "yyR9cmhQGrx7",
        "colab_type": "code",
        "outputId": "4154412b-5b20-4f46-851e-96c17360606a",
        "colab": {
          "base_uri": "https://localhost:8080/",
          "height": 404
        }
      },
      "source": [
        "plt.figure(figsize=(10, 6))\n",
        "ax = sns.distplot(df_arrival_data['departure_delay'].dropna(), kde=False, hist_kws={'edgecolor':'black'})\n",
        "\n",
        "plt.title('Delay of departures among all airports')\n",
        "plt.xlabel('# of flights')\n",
        "plt.xlabel('Departure delay (min)')\n",
        "ax.set_yscale('log')\n",
        "plt.grid(True)\n",
        "plt.show()"
      ],
      "execution_count": 0,
      "outputs": [
        {
          "output_type": "display_data",
          "data": {
            "image/png": "[encoded data removed]",
            "text/plain": [
              "<Figure size 720x432 with 1 Axes>"
            ]
          },
          "metadata": {
            "tags": []
          }
        }
      ]
    },
    {
      "cell_type": "code",
      "metadata": {
        "id": "WARQDb6QoW8L",
        "colab_type": "code",
        "outputId": "c7fbb5f8-87d2-4b56-83cc-cba2874438da",
        "colab": {
          "base_uri": "https://localhost:8080/",
          "height": 404
        }
      },
      "source": [
        "plt.figure(figsize=(10, 6))\n",
        "ax = sns.distplot(df_arrival_data['arrival_delay'].dropna(), kde=False, hist_kws={'edgecolor':'black'})\n",
        "\n",
        "plt.title('Delay of arrivals among all airports')\n",
        "plt.xlabel('# of flights')\n",
        "plt.xlabel('Arrival delay (min)')\n",
        "plt.grid(True)\n",
        "plt.show()"
      ],
      "execution_count": 0,
      "outputs": [
        {
          "output_type": "display_data",
          "data": {
            "image/png": "[encoded data removed]",
            "text/plain": [
              "<Figure size 720x432 with 1 Axes>"
            ]
          },
          "metadata": {
            "tags": []
          }
        }
      ]
    },
    {
      "cell_type": "code",
      "metadata": {
        "id": "PNva-QyDoc9R",
        "colab_type": "code",
        "outputId": "2ef8a64a-0d4b-4c1b-bc66-53fc745c9288",
        "colab": {
          "base_uri": "https://localhost:8080/",
          "height": 404
        }
      },
      "source": [
        "plt.figure(figsize=(10, 6))\n",
        "ax = sns.distplot(df_arrival_data['arrival_delay'].dropna(), kde=False, hist_kws={'edgecolor':'black'})\n",
        "\n",
        "plt.title('Delay of departures among all airports')\n",
        "plt.xlabel('# of flights')\n",
        "plt.xlabel('Departure delay')\n",
        "\n",
        "ax.set_yscale('log')\n",
        "plt.grid(True)\n",
        "plt.show()"
      ],
      "execution_count": 0,
      "outputs": [
        {
          "output_type": "display_data",
          "data": {
            "image/png": "[encoded data removed]",
            "text/plain": [
              "<Figure size 720x432 with 1 Axes>"
            ]
          },
          "metadata": {
            "tags": []
          }
        }
      ]
    }
  ]
}